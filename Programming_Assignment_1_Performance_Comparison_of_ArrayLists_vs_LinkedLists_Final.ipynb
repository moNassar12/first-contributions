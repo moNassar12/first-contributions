{
  "nbformat": 4,
  "nbformat_minor": 0,
  "metadata": {
    "colab": {
      "provenance": [],
      "include_colab_link": true
    },
    "kernelspec": {
      "name": "python3",
      "display_name": "Python 3"
    },
    "language_info": {
      "name": "python"
    }
  },
  "cells": [
    {
      "cell_type": "markdown",
      "metadata": {
        "id": "view-in-github",
        "colab_type": "text"
      },
      "source": [
        "<a href=\"https://colab.research.google.com/github/moNassar12/first-contributions/blob/main/Programming_Assignment_1_Performance_Comparison_of_ArrayLists_vs_LinkedLists_Final.ipynb\" target=\"_parent\"><img src=\"https://colab.research.google.com/assets/colab-badge.svg\" alt=\"Open In Colab\"/></a>"
      ]
    },
    {
      "cell_type": "markdown",
      "source": [
        "#Programming Assignment 1 - Performance Comparison of ArrayLists and LinkedLists\n",
        "Total Points: 100\n",
        "\n",
        "\n",
        "\n",
        "A. Objective\n",
        "\n",
        "This assignment focuses on understanding the performance implications of using `ArrayList` and `LinkedList`. It emphasizes running the existing code, analyzing the output, and drawing meaningful conclusions from the results.\n",
        "\n",
        "\n",
        "\n",
        "B. Assignment Overview\n",
        "\n",
        "You are required to use the provided Google Notebote file to perform experiments comparing the performance of `ArrayList` and `LinkedList`. You will then analyze the output and draw conclusions based on your findings. This assignment will help you understand how the internal workings of these data structures affect their performance and will guide you in choosing the appropriate data structure for different scenarios.\n",
        "\n",
        "\n",
        "\n",
        "C. Download the provided Google Notebote file\n",
        "\n",
        "\n",
        "\n",
        "D. The Google Notebote file contains code that performs the following operations:\n",
        "\n",
        "Initializes a `List` of integers using either `ArrayList` or `LinkedList`.\n",
        "Repeatedly adds elements to the list and removes them, measuring the time taken for these operations.\n",
        "Compares the average time taken for each data structure across different list sizes.\n",
        "Outputs the results for analysis.\n",
        "\n",
        "\n",
        "E. Graded Tasks\n",
        "\n",
        "Run the Provided Java Code (30 Points)\n",
        "   - Compile and run the program in Google Colab Notebook development environment.\n",
        "\n",
        "   - Ensure that the code runs successfully and generates output comparing `ArrayList` and `LinkedList` performance.\n",
        "\n",
        "Code Documentation and Submission (20 Points)\n",
        "   - Document your code with comments explaining the purpose of each method.\n",
        "\n",
        "   - Ensure that your code is clean, well-organized, and follows best practices for readability.\n",
        "\n",
        "\n",
        "\n",
        "Analyze the Output (50 Points)\n",
        "   - Run the program and collect the output data.\n",
        "\n",
        "   - Create a chart that shows the average time per operation for `ArrayList` and `LinkedList` for different list sizes.\n",
        "\n",
        "   - At the end of Google Colab, use the text section to write a report to analyze the results by including answering the following questions:\n",
        "\n",
        "     a. At what list sizes does `ArrayList` outperform `LinkedList`?\n",
        "\n",
        "     b. At what list sizes does `LinkedList` outperform `ArrayList`?\n",
        "\n",
        "     c. What are the practical implications of your findings?\n",
        "\n",
        "     d. When should a developer choose `ArrayList` over `LinkedList`?\n",
        "\n",
        "     e. When should a developer choose 'LinkedList' over `ArrayList`?\n",
        "\n",
        "\n",
        "Submission Guidelines\n",
        "\n",
        "- Submit the Colab Notebook ipynb file to Canvas.\n",
        "- File Naming: Name your submission file as `Firstname_Lastname_Assignment1.ipynb`.\n",
        "\n",
        "- Deadline: Submit your assignment by the due date specified. No late submission is allowed except prior instructor's approval.\n",
        "\n",
        "- Academic Integrity: Ensure that your work is original and does not violate the academic integrity policy. Plagiarism or copying from others will result in disciplinary action.\n",
        "\n",
        "\n",
        "\n",
        "Grading Criteria\n",
        "\n",
        "- Code Execution: Correctly runs and generates expected output. (30 marks)\n",
        "\n",
        "\n",
        "- Code Quality and Documentation: Well-written code with appropriate comments and adherence to coding standards. (20 marks)\n",
        "\n",
        "\n",
        "- Analysis and Reporting: Thorough analysis, insightful observations, and clear presentation of results. (50 marks)\n",
        "\n",
        "\n",
        "\n",
        "Expected Learning Outcomes\n",
        "\n",
        "This programming assignment will deepen your understanding of the performance characteristics of different list implementations in Java. By analyzing the time complexity of various operations, you will be better equipped to make informed decisions about which data structure to use in different programming scenarios.\n",
        "\n",
        "\n",
        "\n",
        "Good luck, and happy coding!"
      ],
      "metadata": {
        "id": "kPF48x_64pQK"
      }
    },
    {
      "cell_type": "markdown",
      "source": [
        "=========================================================="
      ],
      "metadata": {
        "id": "sKXsnOVT5bsG"
      }
    },
    {
      "cell_type": "markdown",
      "source": [
        "## Running Java Code in Google Colab\n",
        "\n",
        "Google Colab is primarily designed for Python, but you can run Java code by following these steps:\n",
        "\n",
        "### Step 1: Install Java\n",
        "\n",
        "Run the following command to install Java in Google Colab:"
      ],
      "metadata": {
        "id": "UUzFjZ4d5Tko"
      }
    },
    {
      "cell_type": "code",
      "execution_count": 1,
      "metadata": {
        "id": "aWsmGOSVg4d0"
      },
      "outputs": [],
      "source": [
        "!apt-get install openjdk-11-jdk-headless -qq > /dev/null"
      ]
    },
    {
      "cell_type": "markdown",
      "source": [
        "### Step 2: Write the Java Code to a File\n",
        "\n",
        "\n",
        "Code Documentation and Submission (20 Points)\n",
        "   - The following cell contain Java code with file named `Timing.java`.\n",
        "\n",
        "   - Document these codes with comments explaining the purpose of each method.\n",
        "\n",
        "   - Ensure that your codes are well documented and follows best practices for readability."
      ],
      "metadata": {
        "id": "YSYGvrdf5uLN"
      }
    },
    {
      "cell_type": "code",
      "source": [
        "%%writefile Timing.java\n",
        "import java.util.ArrayList;\n",
        "import java.util.LinkedList;\n",
        "import java.util.List;\n",
        "\n",
        "// Define the main class\n",
        "public class Timing {\n",
        "\n",
        "    // Define main class\n",
        "    public static void main(String[] args)\n",
        "    {\n",
        "        int size = 5; // initialize the size\n",
        "        int trials = 10000; // number of repititions for each trial\n",
        "\n",
        "        // loop to run the experiment\n",
        "        for(int i = 0; i < 30; i++)\n",
        "        {\n",
        "\n",
        "            // run experiment with both LinkedList and ArrayList three times each\n",
        "            System.out.println(trials + \" trials on \" + size + \" items:\");\n",
        "\n",
        "            experiments(size, true, trials); // LinkedList\n",
        "            experiments(size, false, trials); // ArrayList\n",
        "            experiments(size, true, trials); // LinkedList\n",
        "            experiments(size, false, trials); // ArrayList\n",
        "            experiments(size, true, trials); // LinkedList\n",
        "            experiments(size, false, trials); // ArrayList\n",
        "\n",
        "            size*=1.414; // Increase the size for the next set of experiment\n",
        "        }\n",
        "    }\n",
        "\n",
        "    // Method to run the experiment measuring the Performance\n",
        "    public static void experiments(int size, boolean isLL, int repetitions) {\n",
        "\n",
        "        List<Integer> list; // List to store the integers\n",
        "        long startTime, endTime, duration; // Variables to measure time\n",
        "\n",
        "        startTime = System.nanoTime(); // record the start time of the experiment\n",
        "\n",
        "        // initialize the list based on isLL flag\n",
        "        if(isLL)\n",
        "        {\n",
        "            list = new LinkedList<Integer>(); // use LinkedList if isLL is True\n",
        "            System.out.print(\"   LinkedList, average time:  \");\n",
        "        }\n",
        "        else\n",
        "        {\n",
        "            list = new ArrayList<Integer>(); // use ArrayList if isLL is False\n",
        "            System.out.print(\"   ArrayList, average time: \");\n",
        "        }\n",
        "\n",
        "        // Loop to perform the add and remove operation\n",
        "        for(int count = 0; count<repetitions; count++)\n",
        "        {\n",
        "            // add elements to the list\n",
        "            for(int i=0; i<size; i++)\n",
        "                list.add(i);\n",
        "\n",
        "            // remove elements from the list until empty\n",
        "            while(!list.isEmpty())\n",
        "                list.remove(0);\n",
        "        }\n",
        "\n",
        "        // record the end time of the experiment\n",
        "        endTime = System.nanoTime();\n",
        "\n",
        "        // calculate the duratio of the experiment divided by repetitions\n",
        "        duration = (endTime - startTime)/repetitions;\n",
        "\n",
        "        // output the average time per trial\n",
        "        System.out.println(\"\" + duration + \", time per element: \" + duration/size);\n",
        "    }\n",
        "\n",
        "}\n"
      ],
      "metadata": {
        "colab": {
          "base_uri": "https://localhost:8080/",
          "height": 0
        },
        "id": "rRholq9DhDcx",
        "outputId": "ae027f80-d73c-475b-e1e2-17214943db40"
      },
      "execution_count": 2,
      "outputs": [
        {
          "output_type": "stream",
          "name": "stdout",
          "text": [
            "Writing Timing.java\n"
          ]
        }
      ]
    },
    {
      "cell_type": "markdown",
      "source": [
        "### Step 3: Compile the Java Code\n",
        "\n",
        "Compile the Java code using the following command:"
      ],
      "metadata": {
        "id": "Ippz5eRH7FSe"
      }
    },
    {
      "cell_type": "code",
      "source": [
        "!javac Timing.java"
      ],
      "metadata": {
        "id": "K5Jt3hfdhY5B"
      },
      "execution_count": 3,
      "outputs": []
    },
    {
      "cell_type": "markdown",
      "source": [
        "\n",
        "### Step 4: Run the Java Program\n",
        "\n",
        "Execute the compiled Java program with this command:\n"
      ],
      "metadata": {
        "id": "l4RtFV-O7O_y"
      }
    },
    {
      "cell_type": "code",
      "source": [
        "!java Timing"
      ],
      "metadata": {
        "colab": {
          "base_uri": "https://localhost:8080/"
        },
        "id": "HzU3GWhdhhaT",
        "outputId": "ce32a774-6aaa-4ebb-cfa2-9c6ae2a59994"
      },
      "execution_count": 6,
      "outputs": [
        {
          "output_type": "stream",
          "name": "stdout",
          "text": [
            "10000 trials on 5 items:\n",
            "   LinkedList, average time:  2115, time per element: 423\n",
            "   ArrayList, average time: 1339, time per element: 267\n",
            "   LinkedList, average time:  798, time per element: 159\n",
            "   ArrayList, average time: 959, time per element: 191\n",
            "   LinkedList, average time:  753, time per element: 150\n",
            "   ArrayList, average time: 1061, time per element: 212\n",
            "10000 trials on 7 items:\n",
            "   LinkedList, average time:  875, time per element: 125\n",
            "   ArrayList, average time: 553, time per element: 79\n",
            "   LinkedList, average time:  921, time per element: 131\n",
            "   ArrayList, average time: 1342, time per element: 191\n",
            "   LinkedList, average time:  984, time per element: 140\n",
            "   ArrayList, average time: 1266, time per element: 180\n",
            "10000 trials on 9 items:\n",
            "   LinkedList, average time:  1157, time per element: 128\n",
            "   ArrayList, average time: 1685, time per element: 187\n",
            "   LinkedList, average time:  282, time per element: 31\n",
            "   ArrayList, average time: 1811, time per element: 201\n",
            "   LinkedList, average time:  687, time per element: 76\n",
            "   ArrayList, average time: 528, time per element: 58\n",
            "10000 trials on 12 items:\n",
            "   LinkedList, average time:  364, time per element: 30\n",
            "   ArrayList, average time: 728, time per element: 60\n",
            "   LinkedList, average time:  518, time per element: 43\n",
            "   ArrayList, average time: 737, time per element: 61\n",
            "   LinkedList, average time:  607, time per element: 50\n",
            "   ArrayList, average time: 698, time per element: 58\n",
            "10000 trials on 16 items:\n",
            "   LinkedList, average time:  847, time per element: 52\n",
            "   ArrayList, average time: 1024, time per element: 64\n",
            "   LinkedList, average time:  852, time per element: 53\n",
            "   ArrayList, average time: 1132, time per element: 70\n",
            "   LinkedList, average time:  1000, time per element: 62\n",
            "   ArrayList, average time: 1181, time per element: 73\n",
            "10000 trials on 22 items:\n",
            "   LinkedList, average time:  745, time per element: 33\n",
            "   ArrayList, average time: 1314, time per element: 59\n",
            "   LinkedList, average time:  1023, time per element: 46\n",
            "   ArrayList, average time: 1125, time per element: 51\n",
            "   LinkedList, average time:  1547, time per element: 70\n",
            "   ArrayList, average time: 2047, time per element: 93\n",
            "10000 trials on 31 items:\n",
            "   LinkedList, average time:  2276, time per element: 73\n",
            "   ArrayList, average time: 1766, time per element: 56\n",
            "   LinkedList, average time:  1590, time per element: 51\n",
            "   ArrayList, average time: 1514, time per element: 48\n",
            "   LinkedList, average time:  899, time per element: 29\n",
            "   ArrayList, average time: 932, time per element: 30\n",
            "10000 trials on 43 items:\n",
            "   LinkedList, average time:  1455, time per element: 33\n",
            "   ArrayList, average time: 1307, time per element: 30\n",
            "   LinkedList, average time:  1250, time per element: 29\n",
            "   ArrayList, average time: 1412, time per element: 32\n",
            "   LinkedList, average time:  1370, time per element: 31\n",
            "   ArrayList, average time: 1499, time per element: 34\n",
            "10000 trials on 60 items:\n",
            "   LinkedList, average time:  2489, time per element: 41\n",
            "   ArrayList, average time: 1902, time per element: 31\n",
            "   LinkedList, average time:  1709, time per element: 28\n",
            "   ArrayList, average time: 1894, time per element: 31\n",
            "   LinkedList, average time:  2290, time per element: 38\n",
            "   ArrayList, average time: 2315, time per element: 38\n",
            "10000 trials on 84 items:\n",
            "   LinkedList, average time:  1599, time per element: 19\n",
            "   ArrayList, average time: 2875, time per element: 34\n",
            "   LinkedList, average time:  1385, time per element: 16\n",
            "   ArrayList, average time: 2763, time per element: 32\n",
            "   LinkedList, average time:  1427, time per element: 16\n",
            "   ArrayList, average time: 2812, time per element: 33\n",
            "10000 trials on 118 items:\n",
            "   LinkedList, average time:  2243, time per element: 19\n",
            "   ArrayList, average time: 4115, time per element: 34\n",
            "   LinkedList, average time:  2955, time per element: 25\n",
            "   ArrayList, average time: 4064, time per element: 34\n",
            "   LinkedList, average time:  1946, time per element: 16\n",
            "   ArrayList, average time: 4223, time per element: 35\n",
            "10000 trials on 166 items:\n",
            "   LinkedList, average time:  18002, time per element: 108\n",
            "   ArrayList, average time: 5410, time per element: 32\n",
            "   LinkedList, average time:  3110, time per element: 18\n",
            "   ArrayList, average time: 6092, time per element: 36\n",
            "   LinkedList, average time:  3585, time per element: 21\n",
            "   ArrayList, average time: 5536, time per element: 33\n",
            "10000 trials on 234 items:\n",
            "   LinkedList, average time:  4705, time per element: 20\n",
            "   ArrayList, average time: 9895, time per element: 42\n",
            "   LinkedList, average time:  5755, time per element: 24\n",
            "   ArrayList, average time: 8874, time per element: 37\n",
            "   LinkedList, average time:  4269, time per element: 18\n",
            "   ArrayList, average time: 8815, time per element: 37\n",
            "10000 trials on 330 items:\n",
            "   LinkedList, average time:  5172, time per element: 15\n",
            "   ArrayList, average time: 15536, time per element: 47\n",
            "   LinkedList, average time:  5408, time per element: 16\n",
            "   ArrayList, average time: 14725, time per element: 44\n",
            "   LinkedList, average time:  5841, time per element: 17\n",
            "   ArrayList, average time: 16058, time per element: 48\n",
            "10000 trials on 466 items:\n",
            "   LinkedList, average time:  11821, time per element: 25\n",
            "   ArrayList, average time: 24344, time per element: 52\n",
            "   LinkedList, average time:  8391, time per element: 18\n",
            "   ArrayList, average time: 25313, time per element: 54\n",
            "   LinkedList, average time:  7670, time per element: 16\n",
            "   ArrayList, average time: 26066, time per element: 55\n",
            "10000 trials on 658 items:\n",
            "   LinkedList, average time:  15658, time per element: 23\n",
            "   ArrayList, average time: 40845, time per element: 62\n",
            "   LinkedList, average time:  11123, time per element: 16\n",
            "   ArrayList, average time: 43096, time per element: 65\n",
            "   LinkedList, average time:  11373, time per element: 17\n",
            "   ArrayList, average time: 41841, time per element: 63\n",
            "10000 trials on 930 items:\n",
            "   LinkedList, average time:  21342, time per element: 22\n",
            "   ArrayList, average time: 71053, time per element: 76\n",
            "   LinkedList, average time:  16467, time per element: 17\n",
            "   ArrayList, average time: 103318, time per element: 111\n",
            "   LinkedList, average time:  29784, time per element: 32\n",
            "   ArrayList, average time: 108643, time per element: 116\n",
            "10000 trials on 1315 items:\n",
            "   LinkedList, average time:  39547, time per element: 30\n",
            "   ArrayList, average time: 115941, time per element: 88\n",
            "   LinkedList, average time:  21527, time per element: 16\n",
            "   ArrayList, average time: 114833, time per element: 87\n",
            "   LinkedList, average time:  22721, time per element: 17\n",
            "   ArrayList, average time: 121672, time per element: 92\n",
            "10000 trials on 1859 items:\n",
            "   LinkedList, average time:  30232, time per element: 16\n",
            "   ArrayList, average time: 215505, time per element: 115\n",
            "   LinkedList, average time:  31413, time per element: 16\n",
            "   ArrayList, average time: 218800, time per element: 117\n",
            "   LinkedList, average time:  30509, time per element: 16\n",
            "   ArrayList, average time: 274337, time per element: 147\n",
            "10000 trials on 2628 items:\n",
            "   LinkedList, average time:  78963, time per element: 30\n",
            "   ArrayList, average time: 374097, time per element: 142\n",
            "   LinkedList, average time:  43627, time per element: 16\n",
            "   ArrayList, average time: 375836, time per element: 143\n",
            "   LinkedList, average time:  43111, time per element: 16\n",
            "   ArrayList, average time: 429286, time per element: 163\n",
            "10000 trials on 3715 items:\n",
            "   LinkedList, average time:  76796, time per element: 20\n",
            "   ArrayList, average time: 653900, time per element: 176\n",
            "   LinkedList, average time:  61192, time per element: 16\n",
            "   ArrayList, average time: 849210, time per element: 228\n",
            "   LinkedList, average time:  84659, time per element: 22\n",
            "   ArrayList, average time: 858904, time per element: 231\n",
            "10000 trials on 5253 items:\n",
            "   LinkedList, average time:  90667, time per element: 17\n",
            "   ArrayList, average time: 1447203, time per element: 275\n",
            "   LinkedList, average time:  90092, time per element: 17\n",
            "   ArrayList, average time: 1353494, time per element: 257\n",
            "   LinkedList, average time:  89393, time per element: 17\n",
            "   ArrayList, average time: 1438820, time per element: 273\n",
            "10000 trials on 7427 items:\n",
            "   LinkedList, average time:  125169, time per element: 16\n",
            "   ArrayList, average time: 2822011, time per element: 379\n",
            "   LinkedList, average time:  195582, time per element: 26\n",
            "   ArrayList, average time: 2799955, time per element: 376\n",
            "   LinkedList, average time:  124774, time per element: 16\n",
            "   ArrayList, average time: 2800167, time per element: 377\n",
            "10000 trials on 10501 items:\n",
            "   LinkedList, average time:  176523, time per element: 16\n",
            "   ArrayList, average time: 5796180, time per element: 551\n",
            "   LinkedList, average time:  175197, time per element: 16\n",
            "   ArrayList, average time: 5796209, time per element: 551\n",
            "   LinkedList, average time:  299942, time per element: 28\n",
            "   ArrayList, average time: 6005731, time per element: 571\n",
            "10000 trials on 14848 items:\n",
            "   LinkedList, average time:  419673, time per element: 28\n",
            "   ArrayList, average time: 12250347, time per element: 825\n",
            "   LinkedList, average time:  409279, time per element: 27\n",
            "   ArrayList, average time: 11858177, time per element: 798\n",
            "   LinkedList, average time:  291041, time per element: 19\n",
            "   ArrayList, average time: 11907953, time per element: 801\n",
            "10000 trials on 20995 items:\n",
            "   LinkedList, average time:  467678, time per element: 22\n",
            "   ArrayList, average time: 25088365, time per element: 1194\n",
            "   LinkedList, average time:  469286, time per element: 22\n",
            "   ArrayList, average time: 24725789, time per element: 1177\n",
            "   LinkedList, average time:  465943, time per element: 22\n",
            "   ArrayList, average time: 25146173, time per element: 1197\n",
            "10000 trials on 29686 items:\n",
            "   LinkedList, average time:  776192, time per element: 26\n",
            "   ArrayList, average time: 46153832, time per element: 1554\n",
            "   LinkedList, average time:  767688, time per element: 25\n",
            "   ArrayList, average time: 48848467, time per element: 1645\n",
            "   LinkedList, average time:  736293, time per element: 24\n",
            "   ArrayList, average time: 49344941, time per element: 1662\n",
            "10000 trials on 41976 items:\n",
            "   LinkedList, average time:  1126696, time per element: 26\n",
            "   ArrayList, average time: 95555244, time per element: 2276\n",
            "   LinkedList, average time:  1131129, time per element: 26\n",
            "   ArrayList, average time: 97905390, time per element: 2332\n",
            "   LinkedList, average time:  1120239, time per element: 26\n",
            "   ArrayList, average time: 95404169, time per element: 2272\n",
            "10000 trials on 59354 items:\n",
            "   LinkedList, average time:  1662701, time per element: 28\n",
            "   ArrayList, average time: "
          ]
        }
      ]
    },
    {
      "cell_type": "markdown",
      "source": [
        "#Plot the Performance Chart"
      ],
      "metadata": {
        "id": "ODjix1PVo1yy"
      }
    },
    {
      "cell_type": "code",
      "source": [
        "import matplotlib.pyplot as plt\n",
        "\n",
        "# Size of the list\n",
        "sizes = [5, 7, 9, 12, 16, 22, 31, 43, 60, 84, 118, 166, 234, 330, 466, 658, 930, 1315, 1859, 2628, 3715, 5253, 7427, 10501, 14848, 20995, 29686, 41976]\n",
        "\n",
        "# Average time for each number of iteams\n",
        "arraylist_times = [1119.67, 1053.67, 1341.33, 721.0, 1112.33, 1495.33, 1404.0, 1406.0, 2037.0, 2816.67, 4134.0, 5679.33, 9194.67, 15439.67, 25241.0, 41927.33, 94338.0, 117482.0, 236214.0, 393073.0, 787338.0, 1413172.33, 2807377.67, 5866040.0, 12005492.33, 24986775.67, 48115746.67, 96288267.67]\n",
        "linkedlist_times = [1222.0, 926.67, 708.67, 496.33, 899.67, 1105.0, 1588.33, 1358.33, 2162.67, 1470.33, 2381.33, 8232.33, 4909.67, 5473.67, 9294.0, 12718.0, 22531.0, 27931.67, 30718.0, 55233.67, 74215.67, 90050.67, 148508.33, 217220.67, 373331.0, 467635.67, 760057.67, 1126021.33]\n",
        "\n",
        "\n",
        "plt.plot(sizes, arraylist_times, label='ArrayList', marker='o')\n",
        "plt.plot(sizes, linkedlist_times, label='LinkedList', marker='x')\n",
        "plt.xlabel('List Size')\n",
        "plt.ylabel('Average Time per Element (ns)')\n",
        "plt.title('Performance Comparison: ArrayList vs. LinkedList')\n",
        "plt.legend()\n",
        "plt.show()"
      ],
      "metadata": {
        "colab": {
          "base_uri": "https://localhost:8080/",
          "height": 472
        },
        "id": "Trd7lOL_9FFe",
        "outputId": "029a217e-6aaf-4552-fa61-a6a9390820f5"
      },
      "execution_count": 11,
      "outputs": [
        {
          "output_type": "display_data",
          "data": {
            "text/plain": [
              "<Figure size 640x480 with 1 Axes>"
            ],
            "image/png": "[encoded data removed]"
          },
          "metadata": {}
        }
      ]
    },
    {
      "cell_type": "markdown",
      "source": [
        "\n",
        "#Analyze the Output (50 Points)\n",
        "\n",
        "   - Use the output data and the chart to answer the following questions:\n",
        "\n",
        "     a. At what list sizes does `ArrayList` outperform `LinkedList`?\n",
        "\n",
        "     b. At what list sizes does `LinkedList` outperform `ArrayList`?\n",
        "\n",
        "     c. What are the practical implications of your findings?\n",
        "\n",
        "     d. When should a developer choose `ArrayList` over `LinkedList`?\n",
        "\n",
        "     e. When should a developer choose 'LinkedList' over `ArrayList`?\n"
      ],
      "metadata": {
        "id": "nYSQiUXcCM1A"
      }
    },
    {
      "cell_type": "markdown",
      "source": [
        "#Your answers here:"
      ],
      "metadata": {
        "id": "2f7NLf3iEa11"
      }
    },
    {
      "cell_type": "markdown",
      "source": [
        "A) ArrayList performs better than LinkedList at specific, smaller sizes due to its efficient random access and contiguous memory allocation. The sizes where ArrayList outperforms are:\n",
        "\n",
        "Size 5\n",
        "Size 31\n",
        "Size 60\n",
        "Size 166\n",
        "\n",
        "These cases occur because ArrayList can access elements in O(1) time, while LinkedList must traverse nodes, making it slower for random access in these particular cases.\n",
        "\n",
        "B) LinkedList performs better than ArrayList for the majority of sizes. This is especially true when insertion and deletion operations are frequent, or the list size is larger. Specifically, LinkedList outperforms ArrayList at:\n",
        "\n",
        "Sizes 7, 9, 12, 16, 22, 43, 84, and above.\n",
        "This happens because LinkedList can add and remove elements in O(1) time without needing to shift elements, unlike ArrayList, which needs to shift elements on insertions or deletions.\n",
        "\n",
        "C) ArrayList is the better choice for small to medium lists where fast random access is needed, such as reading elements frequently by index. Its performance declines as the list grows because adding/removing elements involves resizing and shifting.\n",
        "\n",
        "LinkedList is the better choice when dealing with large lists or when you need to perform frequent insertions and deletions, especially at the beginning or middle of the list. It doesn’t need to shift elements and remains efficient as the list size grows.\n",
        "\n",
        "Use ArrayList for fast access to elements by index and LinkedList for frequent modifications.\n",
        "\n",
        "D) A developer should choose ArrayList when:\n",
        "\n",
        "When fast random access is required or when rhe list will be small or medium-sized.\n",
        "\n",
        "The list is mostly static, meaning there won’t be many insertions or deletions, as these operations are expensive in ArrayList - due to shifting elements.\n",
        "\n",
        "For example, ArrayList is great for read-only lists or datasets where you’ll mainly access data by index.\n",
        "\n",
        "E) A developer should choose LinkedList when:\n",
        "\n",
        "Frequent insertions and deletions are needed, especially in the middle or beginning of the list, because LinkedList can handle these operations in O(1) time, OR when the list is expected to grow large and when random access (like accessing elements by index) is less important, since LinkedList has O(n) access time for elements.\n",
        "\n",
        "LinkedList is great for queues, stacks, or any scenario where modifying the structure frequently is required."
      ],
      "metadata": {
        "id": "CpH_VZGWCUu2"
      }
    }
  ]
}